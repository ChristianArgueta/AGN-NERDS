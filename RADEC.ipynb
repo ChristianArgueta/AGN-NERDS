{
 "cells": [
  {
   "cell_type": "markdown",
   "metadata": {},
   "source": [
    "# Matching sources from two catalogs by RA and Dec"
   ]
  },
  {
   "cell_type": "markdown",
   "metadata": {},
   "source": [
    "### Importing the necessary packages"
   ]
  },
  {
   "cell_type": "code",
   "execution_count": 77,
   "metadata": {},
   "outputs": [],
   "source": [
    "import numpy as np\n",
    "import matplotlib.pyplot as plt\n",
    "import astropy as ast\n",
    "from astropy import units as u\n",
    "import astropy.table\n",
    "from astropy.table import QTable"
   ]
  },
  {
   "cell_type": "markdown",
   "metadata": {},
   "source": [
    "### Opening the FITS files"
   ]
  },
  {
   "cell_type": "code",
   "execution_count": 17,
   "metadata": {},
   "outputs": [],
   "source": [
    "# Opening the fits files\n",
    "from astropy.io import fits\n",
    "hdulistPC = fits.open('PRIMER-COSMOS_v2.0.0_LW_Kf444w_SUPER_CATALOG.fits')\n",
    "hdulistPU = fits.open('PRIMER-UDS_v2.0.0_LW_Kf444w_SUPER_CATALOG.fits')\n",
    "hdulistC = fits.open('cos_merged_v1.1.fits')\n",
    "hdulistU = fits.open('uds_merged_v1.1.fits')"
   ]
  },
  {
   "cell_type": "markdown",
   "metadata": {},
   "source": [
    "### Grabbing the RA and DEC values"
   ]
  },
  {
   "cell_type": "code",
   "execution_count": 62,
   "metadata": {},
   "outputs": [],
   "source": [
    "#Grabbing the RA and DEC values from the fits files using the headers\n",
    "ra_pc = hdulistPC[1].data['ra']\n",
    "ra_pu = hdulistPU[1].data['ra']\n",
    "ra_c = hdulistC[1].data['RA']\n",
    "ra_u = hdulistU[1].data['RA']\n",
    "\n",
    "dec_pc = hdulistPC[1].data['dec']\n",
    "dec_pu = hdulistPU[1].data['dec']\n",
    "dec_c = hdulistC[1].data['DEC']\n",
    "dec_u = hdulistU[1].data['DEC']\n",
    "\n",
    "#Using QTable to create a table with the RA and DEC values to double check with TOPCAT\n",
    "t = QTable([ra_pc , dec_pc], names=('RA', 'DEC'))\n",
    "t1 = QTable([ra_pu, dec_pu], names=('RA', 'DEC'))\n",
    "t2 = QTable([ra_c, dec_c], names=('RA', 'DEC'))\n",
    "t3 = QTable([ra_u, dec_u], names=('RA', 'DEC'))"
   ]
  },
  {
   "cell_type": "code",
   "execution_count": 70,
   "metadata": {},
   "outputs": [],
   "source": [
    "#Remove # to print out desired table\n",
    "#t\n",
    "#t1\n",
    "#t2\n",
    "#t3"
   ]
  },
  {
   "cell_type": "markdown",
   "metadata": {},
   "source": [
    "### IGNORE: This is just for me just something to look at because I was curious about this spread"
   ]
  },
  {
   "cell_type": "code",
   "execution_count": null,
   "metadata": {},
   "outputs": [],
   "source": [
    "# Plotting the RA and DEC in different plots\n",
    "plt.figure(figsize=(15,10))\n",
    "plt.subplot(2,2,1)\n",
    "plt.scatter(ra_pc,dec_pc,s=0.1)\n",
    "plt.title('RA vs DEC for COSMOS')\n",
    "plt.xlabel('RA')\n",
    "plt.ylabel('DEC')\n",
    "\n",
    "plt.subplot(2,2,2)\n",
    "plt.scatter(ra_pu,dec_pu,s=0.1)\n",
    "plt.title('RA vs DEC for UDS')\n",
    "plt.xlabel('RA')\n",
    "plt.ylabel('DEC')\n",
    "\n",
    "plt.subplot(2,2,3)\n",
    "plt.scatter(ra_c,dec_c,s=0.1)\n",
    "plt.title('RA vs DEC for COSMOS')\n",
    "plt.xlabel('RA')\n",
    "plt.ylabel('DEC')\n",
    "\n",
    "plt.subplot(2,2,4)\n",
    "plt.scatter(ra_u,dec_u,s=0.1)\n",
    "plt.title('RA vs DEC for UDS')\n",
    "plt.xlabel('RA')\n",
    "plt.ylabel('DEC')\n",
    "plt.show()"
   ]
  },
  {
   "cell_type": "markdown",
   "metadata": {},
   "source": [
    "### Now we start matching the cataloges!"
   ]
  },
  {
   "cell_type": "markdown",
   "metadata": {},
   "source": [
    "# Start by checking the COSMOS RA and then do the same for DEC"
   ]
  },
  {
   "cell_type": "code",
   "execution_count": 89,
   "metadata": {},
   "outputs": [
    {
     "name": "stdout",
     "output_type": "stream",
     "text": [
      "Matching sources:\n",
      "116247\n",
      "\n",
      "Rejected sources:\n",
      "0\n"
     ]
    }
   ],
   "source": [
    "# Create empty tables for matching and rejected sources\n",
    "matching_table = QTable(names=('RA', 'DEC'))\n",
    "rejected_table = QTable(names=('RA', 'DEC'))\n",
    "\n",
    "# Loop through RA_PC and RA_C to find matches\n",
    "for i in range(len(ra_pc)):\n",
    "    for j in range(len(ra_c)):\n",
    "        if abs(ra_pc[i] - ra_c[j]) <= PSF:\n",
    "            # Add to matching table if within PSF\n",
    "            matching_table.add_row([ra_pc[i], dec_pc[i]])\n",
    "            break\n",
    "    else:\n",
    "        # Add to rejected table if not within PSF\n",
    "        rejected_table.add_row([ra_pc[i], dec_pc[i]])\n",
    "        \n",
    "# Print the matching and rejected tables. The length should be how many match\n",
    "print('Matching sources:')\n",
    "print(len(matching_table))\n",
    "print('\\nRejected sources:')\n",
    "print(len(rejected_table))\n"
   ]
  },
  {
   "cell_type": "code",
   "execution_count": 72,
   "metadata": {},
   "outputs": [
    {
     "name": "stdout",
     "output_type": "stream",
     "text": [
      "Matching sources:\n",
      "116247\n",
      "\n",
      "Rejected sources:\n",
      "0\n"
     ]
    }
   ],
   "source": [
    "# Create empty tables for matching and rejected sources\n",
    "matching_table1 = QTable(names=('RA', 'DEC'))\n",
    "rejected_table1= QTable(names=('RA', 'DEC'))\n",
    "\n",
    "# Loop through RA_PC and RA_C to find matches\n",
    "for i in range(len(dec_pc)):\n",
    "    for j in range(len(dec_c)):\n",
    "        if abs(ra_pc[i] - ra_c[j]) <= PSF:\n",
    "            # Add to matching table if within PSF\n",
    "            matching_table1.add_row([dec_pc[i], dec_pc[i]])\n",
    "            break\n",
    "    else:\n",
    "        # Add to rejected table if not within PSF\n",
    "        rejected_table1.add_row([ra_pc[i], dec_pc[i]])\n",
    "        \n",
    "# Print the matching and rejected tables. The length should be how many sources are in each table\n",
    "print('Matching sources:')\n",
    "print(len(matching_table1))\n",
    "print('\\nRejected sources:')\n",
    "print(len(rejected_table1))"
   ]
  },
  {
   "cell_type": "markdown",
   "metadata": {},
   "source": [
    "### Now I'm doing the same with the UDS"
   ]
  },
  {
   "cell_type": "code",
   "execution_count": 109,
   "metadata": {},
   "outputs": [
    {
     "name": "stdout",
     "output_type": "stream",
     "text": [
      "Matching sources:\n",
      "78275\n",
      "\n",
      "Rejected sources:\n",
      "0\n"
     ]
    }
   ],
   "source": [
    "# Create empty tables for matching and rejected sources\n",
    "matching_table = QTable(names=('RA', 'DEC'))\n",
    "rejected_table = QTable(names=('RA', 'DEC'))\n",
    "\n",
    "# Loop through RA_PC and RA_C to find matches\n",
    "for i in range(len(ra_pu)):\n",
    "    for j in range(len(ra_u)):\n",
    "        if abs(ra_pu[i] - ra_u[j]) <= PSF:\n",
    "            # Add to matching table if within PSF\n",
    "            matching_table.add_row([ra_pu[i], dec_pu[i]])\n",
    "            break\n",
    "    else:\n",
    "        # Add to rejected table if not within PSF\n",
    "        rejected_table.add_row([ra_pu[i], dec_pu[i]])\n",
    "        \n",
    "# Print the matching and rejected tables. The length should be how many match\n",
    "print('Matching sources:')\n",
    "print(len(matching_table))\n",
    "print('\\nRejected sources:')\n",
    "print(len(rejected_table))"
   ]
  },
  {
   "cell_type": "code",
   "execution_count": 111,
   "metadata": {},
   "outputs": [
    {
     "name": "stdout",
     "output_type": "stream",
     "text": [
      "Matching sources:\n",
      "78275\n",
      "\n",
      "Rejected sources:\n",
      "0\n"
     ]
    }
   ],
   "source": [
    "# Create empty tables for matching and rejected sources\n",
    "matching_table = QTable(names=('RA', 'DEC'))\n",
    "rejected_table = QTable(names=('RA', 'DEC'))\n",
    "\n",
    "# Loop through RA_PC and RA_C to find matches\n",
    "for i in range(len(dec_pu)):\n",
    "    for j in range(len(dec_u)):\n",
    "        if abs(dec_pu[i] - dec_u[j]) <= PSF:\n",
    "            # Add to matching table if within PSF\n",
    "            matching_table.add_row([ra_pu[i], dec_pu[i]])\n",
    "            break\n",
    "    else:\n",
    "        # Add to rejected table if not within PSF\n",
    "        rejected_table.add_row([ra_pu[i], dec_pu[i]])\n",
    "        \n",
    "# Print the matching and rejected tables. The length should be how many match\n",
    "print('Matching sources:')\n",
    "print(len(matching_table))\n",
    "print('\\nRejected sources:')\n",
    "print(len(rejected_table))"
   ]
  },
  {
   "cell_type": "markdown",
   "metadata": {},
   "source": [
    "### All of these values fall within the PSF threshold. Since the PRIMER catalog has a larger number of stars, it can only run up to the number of stars in merged catalogs. In the end they all fell within the PSF threshold"
   ]
  },
  {
   "cell_type": "markdown",
   "metadata": {},
   "source": [
    "## Now we have to check how the photometric values compare and then plot thier redshifts."
   ]
  },
  {
   "cell_type": "code",
   "execution_count": null,
   "metadata": {},
   "outputs": [],
   "source": [
    "#Grabbing the flux values from the fits files using the headers\n",
    "flux_pc = hdulistPC[1].data['flux']\n",
    "flux_pu = hdulistPU[1].data['flux']\n",
    "flux_c = hdulistC[1].data['FLUX']\n",
    "flux_u = hdulistU[1].data['FLUX']\n",
    "\n",
    "#Using QTable to create a table with the flux values to double check with TOPCAT\n",
    "t = QTable([flux_pc], names=('FLUX'))\n",
    "t1 = QTable([flux_pu], names=('FLUX'))\n",
    "t2 = QTable([flux_c], names=('FLUX'))\n",
    "t3 = QTable([flux_u], names=('FLUX'))"
   ]
  }
 ],
 "metadata": {
  "kernelspec": {
   "display_name": "Python 3",
   "language": "python",
   "name": "python3"
  },
  "language_info": {
   "codemirror_mode": {
    "name": "ipython",
    "version": 3
   },
   "file_extension": ".py",
   "mimetype": "text/x-python",
   "name": "python",
   "nbconvert_exporter": "python",
   "pygments_lexer": "ipython3",
   "version": "3.11.3"
  }
 },
 "nbformat": 4,
 "nbformat_minor": 2
}
