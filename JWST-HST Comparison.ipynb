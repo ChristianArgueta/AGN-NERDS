{
 "cells": [
  {
   "cell_type": "markdown",
   "metadata": {},
   "source": [
    "# AGNerds Project"
   ]
  },
  {
   "cell_type": "markdown",
   "metadata": {},
   "source": [
    "#### PRIMER is a project with the James Webb Space Telescope that is observing two different fields (UDS and COSMOS) that were also observed with the Hubble Space Telescope.\n",
    "\n",
    "#### Hubble observed these fields as part of the CANDELS program. Extensive work was done by the team over the course of a decade to measure the redshift (or distance from us) and mass of each galaxy. The CANDELS catalogs are saved as the “uds…fits” and “cosmos…fits” files. Download TOPCat (https://www.star.bris.ac.uk/~mbt/topcat/#intro) to easily view fits files. Now, the PRIMER team has also measured these quantities using JWST data.\n",
    "\n",
    "#### It is imperative that we determine how good the new measurements are. The PRIMER data is going to be used by several group members, and we must decide which redshifts to use.\n",
    "\n",
    "#### Christian will match the PRIMER photometric catalogs with the original HST photometric catalogs using RA and Dec. He will determine whether matches are correct by looking at the photometric fluxes in each catalog. He will then plot the redshifts from each catalog and the stellar masses to determine how well they agree.\n"
   ]
  },
  {
   "cell_type": "markdown",
   "metadata": {},
   "source": [
    "# First, lets open up the files"
   ]
  },
  {
   "cell_type": "code",
   "execution_count": 10,
   "metadata": {},
   "outputs": [],
   "source": [
    "import numpy as np\n",
    "import matplotlib.pyplot as plt\n",
    "import astropy as ast\n",
    "from astropy import units as u\n",
    "from astropy.io import fits\n",
    "import astropy.table\n",
    "from astropy.table import QTable"
   ]
  },
  {
   "cell_type": "code",
   "execution_count": 67,
   "metadata": {},
   "outputs": [],
   "source": [
    "PrimerCosmos = fits.open('PRIMER-COSMOS_v2.0.0_LW_Kf444w_SUPER_CATALOG.fits')\n",
    "PrimerUDSSuper = fits.open('PRIMER-UDS_v2.0.0_LW_Kf444w_SUPER_CATALOG.fits')\n",
    "PrimerUDS = fits.open('PRIMER-UDS_v2.0.0_catalog (1).fits')\n",
    "HSTCosmos = fits.open('cos_merged_v1.1.fits')\n",
    "HSTUDS = fits.open('uds_merged_v1.1.fits')"
   ]
  },
  {
   "cell_type": "markdown",
   "metadata": {},
   "source": [
    "# First lets grab the RA and DEC values from the cataloges. You can do this by looking at the headers."
   ]
  },
  {
   "cell_type": "code",
   "execution_count": 80,
   "metadata": {},
   "outputs": [],
   "source": [
    "PrimerCosmosID = PrimerCosmos[1].data['id']\n",
    "PrimerUDSSuperID = PrimerUDSSuper[1].data['id']\n",
    "PrimerUDSID = PrimerUDS[1].data['ID']\n",
    "HSTCosmosID = HSTCosmos[1].data['ID']\n",
    "HSTUDSID = HSTUDS[1].data['ID']\n",
    "\n",
    "PrimerCosmosRA = PrimerCosmos[1].data['ra']\n",
    "PrimerCosmosDEC = PrimerCosmos[1].data['dec']\n",
    "\n",
    "PrimerUDSSuperRA = PrimerUDSSuper[1].data['ra']\n",
    "PrimerUDSSuperDEC = PrimerUDSSuper[1].data['dec']\n",
    "\n",
    "PrimerUDSRA = PrimerUDS[1].data['ra']\n",
    "PrimerUDSDEC = PrimerUDS[1].data['dec']\n",
    "\n",
    "HSTCosmosRA = HSTCosmos[1].data['RA']\n",
    "HSTCosmosDEC = HSTCosmos[1].data['DEC']\n",
    "\n",
    "HSTUDSRA = HSTUDS[1].data['RA']\n",
    "HSTUDSDEC = HSTUDS[1].data['DEC']\n",
    "\n",
    "PrimerUDSZphote = PrimerUDS[1].data['z_phot']\n",
    "CosmosZPhote= HSTCosmos[1].data['zphot']\n",
    "UDSZPhote = HSTUDS[1].data['zphot']"
   ]
  },
  {
   "cell_type": "code",
   "execution_count": 82,
   "metadata": {},
   "outputs": [],
   "source": [
    "#Using QTable to create a table with the ID, RA, DEC, and ZPHOTE\n",
    "PrimerCosmosTable = QTable([PrimerCosmosID, PrimerCosmosRA, PrimerCosmosDEC], names=('ID', 'RA', 'DEC'), dtype=(int, float, float))\n",
    "PrimerUDSSuperTable = QTable([PrimerUDSSuperID, PrimerUDSSuperRA, PrimerUDSSuperDEC, PrimerUDSZphote], names=('ID', 'RA', 'DEC', 'z_phot'), dtype=(int, float, float, float))\n",
    "PrimerUDSTable = QTable([PrimerUDSID, PrimerUDSRA, PrimerUDSDEC, PrimerUDSZphote], names=('ID', 'RA', 'DEC', 'z_phot'), dtype=(int, float, float, float))\n",
    "HSTCosmosTable = QTable([HSTCosmosID, HSTCosmosRA, HSTCosmosDEC, CosmosZPhote], names=('ID', 'RA', 'DEC', 'z_phot'), dtype=(int, float, float, float))\n",
    "HSTUDSTable = QTable([HSTUDSID, HSTUDSRA, HSTUDSDEC, UDSZPhote], names=('ID','RA', 'DEC', 'z_phot'), dtype=(int, float, float, float))\n",
    "\n",
    "\n",
    "#Print out the tables\n",
    "#PrimerCosmosTable\n",
    "#PrimerUDSSuperTable\n",
    "#PrimerUDSTable\n",
    "#HSTCosmosTable"
   ]
  },
  {
   "cell_type": "code",
   "execution_count": 70,
   "metadata": {},
   "outputs": [
    {
     "name": "stdout",
     "output_type": "stream",
     "text": [
      "116247\n",
      "78275\n",
      "78275\n",
      "38671\n"
     ]
    }
   ],
   "source": [
    "#Print out the length of the tables\n",
    "print(len(PrimerCosmosTable))\n",
    "print(len(PrimerUDSSuperTable))\n",
    "print(len(PrimerUDSTable))\n",
    "print(len(HSTCosmosTable))"
   ]
  },
  {
   "cell_type": "markdown",
   "metadata": {},
   "source": [
    "# To compare the RA and Dec, I want to first create a boundary which is the Point Spread Function. The PSF is the irradiance distribution that results from a single point source. JWST and HST have similar qualities, so you can use 0.1 as the PSF."
   ]
  },
  {
   "cell_type": "code",
   "execution_count": 71,
   "metadata": {},
   "outputs": [],
   "source": [
    "PSF = 0.1"
   ]
  },
  {
   "cell_type": "markdown",
   "metadata": {},
   "source": [
    "# Start by checking the COSMOS RA and then do the same for DEC"
   ]
  },
  {
   "cell_type": "code",
   "execution_count": 73,
   "metadata": {},
   "outputs": [
    {
     "name": "stdout",
     "output_type": "stream",
     "text": [
      "38671\n",
      "77576\n"
     ]
    }
   ],
   "source": [
    "# Create empty tables for matching and rejected sources\n",
    "CosmosMatching_Table = QTable(names=('JWSTID', 'HSTID', 'JWSTRA', 'JWSTDEC', 'HSTRA', 'HSTDEC'))\n",
    "CosmosRejected_Table = QTable(names=('JWSTID', 'HSTID', 'JWSTRA', 'JWSTDEC', 'HSTRA', 'HSTDEC'))\n",
    "\n",
    "\n",
    "# Adding a 'Matched' column to both the PrimerCosmos and HSTCosmos tables\n",
    "PrimerCosmosTable['Matched'] = False\n",
    "HSTCosmosTable['Matched'] = False\n",
    "\n",
    "for i in range(len(PrimerCosmosTable)):\n",
    "    # Skip this PrimerCosmos ID if it has been matched already\n",
    "    if PrimerCosmosTable['Matched'][i]:\n",
    "        continue\n",
    "    TempTable = QTable(names=('JWSTID', 'HSTID', 'JWSTRA', 'JWSTDEC', 'HSTRA', 'HSTDEC'))\n",
    "    for j in range(len(HSTCosmosTable)):\n",
    "        # Skip this HSTCosmos ID if it has been matched already\n",
    "        if HSTCosmosTable['Matched'][j]:\n",
    "            continue\n",
    "        Distance = np.sqrt((PrimerCosmosTable['RA'][i] - HSTCosmosTable['RA'][j])**2 + (PrimerCosmosTable['DEC'][i] - HSTCosmosTable['DEC'][j])**2)\n",
    "        if Distance < PSF:\n",
    "            TempTable.add_row([PrimerCosmosTable['ID'][i], HSTCosmosTable['ID'][j], PrimerCosmosTable['RA'][i], PrimerCosmosTable['DEC'][i], HSTCosmosTable['RA'][j], HSTCosmosTable['DEC'][j]])\n",
    "            # Mark as matched to prevent re-matching\n",
    "            PrimerCosmosTable['Matched'][i] = True\n",
    "            HSTCosmosTable['Matched'][j] = True\n",
    "            break  # Exit the loop after finding the first match\n",
    "    \n",
    "    # If no match was found, add to the rejected table\n",
    "    if not TempTable:\n",
    "        CosmosRejected_Table.add_row([PrimerCosmosTable['ID'][i], HSTCosmosTable['ID'][j], PrimerCosmosTable['RA'][i], PrimerCosmosTable['DEC'][i], HSTCosmosTable['RA'][j], HSTCosmosTable['DEC'][j]])\n",
    "\n",
    "    \n",
    "    # Add the match to the matching table if found\n",
    "    if len(TempTable) > 0:\n",
    "        CosmosMatching_Table.add_row(TempTable[0])\n",
    "\n",
    "#print(CosmosMatching_Table)\n",
    "#print(CosmosRejected_Table)\n",
    "print(len(CosmosMatching_Table))\n",
    "print(len(CosmosRejected_Table))"
   ]
  },
  {
   "cell_type": "code",
   "execution_count": 85,
   "metadata": {},
   "outputs": [],
   "source": [
    "#Creating empty tables for matching and rejected sources\n",
    "UDSMatching_Table = QTable(names=('JWSTID', 'HSTID', 'JWSTRA', 'JWSTDEC', 'HSTRA', 'HSTDEC', 'JWSTZPHOTE', 'HSTZPHOTE'))\n",
    "UDSRejected_Table = QTable(names=('JWSTID', 'HSTID', 'JWSTRA', 'JWSTDEC', 'HSTRA', 'HSTDEC', 'JWSTZPHOTE', 'HSTZPHOTE'))\n",
    "\n",
    "#Adding a 'Matched' column to both the PrimerUDSTable and HSTUDSTable tables\n",
    "PrimerUDSSuperTable['Matched'] = False\n",
    "HSTUDSTable['Matched'] = False\n",
    "\n",
    "for i in range(len(PrimerUDSSuperTable)):\n",
    "    # Skip this PrimerUDS ID if it has been matched already\n",
    "    if PrimerUDSSuperTable['Matched'][i]:\n",
    "        continue\n",
    "    TempTable = QTable(names=('JWSTID', 'HSTID', 'JWSTRA', 'JWSTDEC', 'HSTRA', 'HSTDEC', 'JWSTZPHOTE', 'HSTZPHOTE'))\n",
    "    for j in range(len(HSTUDSTable)):\n",
    "        # Skip this HSTUDS ID if it has been matched already\n",
    "        if HSTUDSTable['Matched'][j]:\n",
    "            continue\n",
    "        Distance = np.sqrt((PrimerUDSSuperTable['RA'][i] - HSTUDSTable['RA'][j])**2 + (PrimerUDSSuperTable['DEC'][i] - HSTUDSTable['DEC'][j])**2)\n",
    "        if Distance < PSF:\n",
    "            TempTable.add_row([PrimerUDSSuperTable['ID'][i], HSTUDSTable['ID'][j], PrimerUDSSuperTable['RA'][i], PrimerUDSSuperTable['DEC'][i], HSTUDSTable['RA'][j], HSTUDSTable['DEC'][j], PrimerUDSSuperTable['z_phot'][i], HSTUDSTable['z_phot'][j]])\n",
    "            # Mark as matched to prevent re-matching\n",
    "            PrimerUDSSuperTable['Matched'][i] = True\n",
    "            HSTUDSTable['Matched'][j] = True\n",
    "            break  # Exit the loop after finding the first match\n",
    "    \n",
    "    # If no match was found, add to the rejected table\n",
    "    if not TempTable:\n",
    "        UDSRejected_Table.add_row([PrimerUDSSuperTable['ID'][i], HSTUDSTable['ID'][j], PrimerUDSSuperTable['RA'][i], PrimerUDSSuperTable['DEC'][i], HSTUDSTable['RA'][j], HSTUDSTable['DEC'][j], PrimerUDSSuperTable['z_phot'][i], HSTUDSTable['z_phot'][j]])\n",
    "\n",
    "    \n",
    "    # Add the match to the matching table if found\n",
    "    if len(TempTable) > 0:\n",
    "        UDSMatching_Table.add_row(TempTable[0])"
   ]
  },
  {
   "cell_type": "code",
   "execution_count": 86,
   "metadata": {},
   "outputs": [
    {
     "name": "stdout",
     "output_type": "stream",
     "text": [
      "35710\n",
      "42565\n",
      " JWSTID  HSTID        JWSTRA       ...   HSTDEC       JWSTZPHOTE     HSTZPHOTE\n",
      "------- ------- ------------------ ... --------- ------------------- ---------\n",
      "22681.0 35932.0  34.31627381261531 ... -5.133169  0.2210063934326172     5.251\n",
      "22683.0 35932.0  34.42143990526646 ... -5.133169  0.9282708764076233     5.251\n",
      "22684.0 35932.0 34.418293119872274 ... -5.133169  0.1995500922203064     5.251\n",
      "22686.0 35932.0 34.379595424538856 ... -5.133169  1.4027338027954102     5.251\n",
      "22687.0 35932.0  34.37971187548166 ... -5.133169  0.7932577133178711     5.251\n",
      "22734.0 35932.0 34.416207488525636 ... -5.133169 0.13258804380893707     5.251\n",
      "22742.0 35932.0  34.35438204473663 ... -5.133169   4.379562854766846     5.251\n",
      "22744.0 35932.0  34.29438191785269 ... -5.133169  0.2167806327342987     5.251\n",
      "22746.0 35932.0  34.42460934351937 ... -5.133169  0.8686018586158752     5.251\n",
      "22748.0 35932.0 34.308503403340005 ... -5.133169  0.1841965764760971     5.251\n",
      "    ...     ...                ... ...       ...                 ...       ...\n",
      "78265.0 35932.0  34.33775704116256 ... -5.133169 0.25037625432014465     5.251\n",
      "78266.0 35932.0  34.33076949975725 ... -5.133169  1.5878404378890991     5.251\n",
      "78267.0 35932.0  34.33347299797412 ... -5.133169                -1.0     5.251\n",
      "78268.0 35932.0  34.33944745127313 ... -5.133169  1.3279342651367188     5.251\n",
      "78269.0 35932.0  34.33197122857406 ... -5.133169  0.1424526423215866     5.251\n",
      "78270.0 35932.0   34.3226849800638 ... -5.133169   1.499764084815979     5.251\n",
      "78271.0 35932.0  34.33959514476348 ... -5.133169   4.874309539794922     5.251\n",
      "78272.0 35932.0   34.3239407398836 ... -5.133169   4.544851303100586     5.251\n",
      "78273.0 35932.0  34.35673782666954 ... -5.133169  1.5361346006393433     5.251\n",
      "78274.0 35932.0  34.33985048517912 ... -5.133169  1.4109119176864624     5.251\n",
      "78275.0 35932.0  34.34036316751677 ... -5.133169   0.976430356502533     5.251\n",
      "Length = 42565 rows\n"
     ]
    }
   ],
   "source": [
    "print(len(UDSMatching_Table))\n",
    "print(len(UDSRejected_Table))\n",
    "print(UDSRejected_Table)"
   ]
  },
  {
   "cell_type": "markdown",
   "metadata": {},
   "source": [
    "## These results are expected as the optics on JWST and HST are pretty much the same. Since there are no rejected in either field, this means that the objects are physically the same object."
   ]
  },
  {
   "cell_type": "markdown",
   "metadata": {},
   "source": [
    "## Now we have to check how the photometric values compare and then plot thier redshifts. First I need to grab the photometric values from the cataloges and append them to the PRIMER catalo"
   ]
  },
  {
   "cell_type": "markdown",
   "metadata": {},
   "source": [
    "# Now lets plot the redshifts with the HST on the X axis and JWST on the Y axis."
   ]
  },
  {
   "cell_type": "code",
   "execution_count": 87,
   "metadata": {},
   "outputs": [
    {
     "data": {
      "image/png": "[encoded data removed]",
      "text/plain": [
       "<Figure size 640x480 with 1 Axes>"
      ]
     },
     "metadata": {},
     "output_type": "display_data"
    }
   ],
   "source": [
    "plt.scatter(UDSMatching_Table['HSTZPHOTE'], UDSMatching_Table['JWSTZPHOTE'], label='Matching')\n",
    "plt.scatter(UDSRejected_Table['HSTZPHOTE'], UDSRejected_Table['JWSTZPHOTE'], label='Rejected')\n",
    "plt.xlabel('HST zphotes')\n",
    "plt.ylabel('JWST zphotes')\n",
    "plt.legend()\n",
    "plt.show()\n"
   ]
  }
 ],
 "metadata": {
  "kernelspec": {
   "display_name": "Python 3",
   "language": "python",
   "name": "python3"
  },
  "language_info": {
   "codemirror_mode": {
    "name": "ipython",
    "version": 3
   },
   "file_extension": ".py",
   "mimetype": "text/x-python",
   "name": "python",
   "nbconvert_exporter": "python",
   "pygments_lexer": "ipython3",
   "version": "3.11.5"
  }
 },
 "nbformat": 4,
 "nbformat_minor": 2
}
